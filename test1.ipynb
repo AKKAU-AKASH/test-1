{
 "cells": [
  {
   "cell_type": "code",
   "execution_count": 1,
   "id": "92ae9b7c-7b3e-46d4-90a6-e02b3f12f3c8",
   "metadata": {},
   "outputs": [
    {
     "data": {
      "text/plain": [
       "3"
      ]
     },
     "execution_count": 1,
     "metadata": {},
     "output_type": "execute_result"
    }
   ],
   "source": [
    "1+2"
   ]
  },
  {
   "cell_type": "code",
   "execution_count": 2,
   "id": "4e13f0b7-6b66-4599-89be-1518793ab599",
   "metadata": {},
   "outputs": [
    {
     "ename": "SyntaxError",
     "evalue": "invalid syntax (1245833114.py, line 1)",
     "output_type": "error",
     "traceback": [
      "\u001b[0;36m  Cell \u001b[0;32mIn[2], line 1\u001b[0;36m\u001b[0m\n\u001b[0;31m    gfhjgjjjkj hjkhj\u001b[0m\n\u001b[0m               ^\u001b[0m\n\u001b[0;31mSyntaxError\u001b[0m\u001b[0;31m:\u001b[0m invalid syntax\n"
     ]
    }
   ],
   "source": [
    "gfhjgjjjkj hjkhj\n"
   ]
  },
  {
   "cell_type": "markdown",
   "id": "ef565f25-2dda-4864-96ce-0dd01155b2dd",
   "metadata": {},
   "source": [
    "hhggty hhgfrry"
   ]
  },
  {
   "cell_type": "code",
   "execution_count": null,
   "id": "be1dd26b-90de-4651-aae6-461b38cf84c8",
   "metadata": {},
   "outputs": [],
   "source": []
  }
 ],
 "metadata": {
  "kernelspec": {
   "display_name": "Python 3 (ipykernel)",
   "language": "python",
   "name": "python3"
  },
  "language_info": {
   "codemirror_mode": {
    "name": "ipython",
    "version": 3
   },
   "file_extension": ".py",
   "mimetype": "text/x-python",
   "name": "python",
   "nbconvert_exporter": "python",
   "pygments_lexer": "ipython3",
   "version": "3.10.8"
  }
 },
 "nbformat": 4,
 "nbformat_minor": 5
}
